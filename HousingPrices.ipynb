{
 "cells": [
  {
   "cell_type": "code",
   "execution_count": null,
   "metadata": {
    "_cell_guid": "b1076dfc-b9ad-4769-8c92-a6c4dae69d19",
    "_uuid": "8f2839f25d086af736a60e9eeb907d3b93b6e0e5"
   },
   "outputs": [],
   "source": [
    "import numpy as np # linear algebra\n",
    "import pandas as pd # data processing, CSV file I/O (e.g. pd.read_csv)\n",
    "import matplotlib.pyplot as plt\n",
    "import seaborn as sns\n",
    "sns.set(style=\"darkgrid\")\n",
    "\n",
    "\n",
    "import warnings\n",
    "warnings.filterwarnings('ignore')\n",
    "import time\n",
    "import category_encoders\n",
    "import xgboost as xgb\n",
    "from sklearn.ensemble import RandomForestRegressor\n",
    "from sklearn.linear_model import Ridge\n",
    "from sklearn.linear_model import Lasso\n",
    "from sklearn.linear_model import RidgeCV\n",
    "from mlxtend.regressor import StackingCVRegressor\n",
    "from sklearn.model_selection import KFold, cross_val_score\n",
    "from sklearn.ensemble import GradientBoostingRegressor\n",
    "from sklearn.linear_model import LassoLars\n",
    "from sklearn.kernel_ridge import KernelRidge"
   ]
  },
  {
   "cell_type": "code",
   "execution_count": null,
   "metadata": {
    "_cell_guid": "79c7e3d0-c299-4dcb-8224-4455121ee9b0",
    "_uuid": "d629ff2d2480ee46fbb7e2d37f6b5fab8052498a"
   },
   "outputs": [],
   "source": [
    "train_data = pd.read_csv(\"/kaggle/input/house-prices-advanced-regression-techniques/train.csv\")\n",
    "test_data = pd.read_csv(\"/kaggle/input/house-prices-advanced-regression-techniques/test.csv\")"
   ]
  },
  {
   "cell_type": "markdown",
   "metadata": {},
   "source": [
    "# Imputing Missing Data"
   ]
  },
  {
   "cell_type": "markdown",
   "metadata": {},
   "source": [
    "For the most part we will impute missing values with an \"NA\" label."
   ]
  },
  {
   "cell_type": "code",
   "execution_count": null,
   "metadata": {},
   "outputs": [],
   "source": [
    "train_data[\"PoolQC\"] = train_data[\"PoolQC\"].fillna(\"NA\")"
   ]
  },
  {
   "cell_type": "code",
   "execution_count": null,
   "metadata": {},
   "outputs": [],
   "source": [
    "test_data[\"PoolQC\"] = test_data[\"PoolQC\"].fillna(\"NA\")"
   ]
  },
  {
   "cell_type": "code",
   "execution_count": null,
   "metadata": {},
   "outputs": [],
   "source": [
    "all_bsmt_features = [feat for feat in train_data.columns if 'Bsmt' in feat]\n",
    "bsmt_df = train_data[all_bsmt_features]\n",
    "bsmt_df[\"BsmtQual\"].fillna('TA', inplace = True)\n",
    "bsmt_df[\"BsmtCond\"].fillna('TA', inplace = True)\n",
    "bsmt_df[\"BsmtFinType1\"].fillna('Unf', inplace = True)\n",
    "bsmt_df[\"BsmtFinType2\"].fillna('Unf', inplace = True)\n",
    "bsmt_df.loc[bsmt_df[\"BsmtExposure\"].isna(), 'BsmtExposure'] = 'No'\n",
    "train_data[all_bsmt_features] = bsmt_df.copy()"
   ]
  },
  {
   "cell_type": "code",
   "execution_count": null,
   "metadata": {},
   "outputs": [],
   "source": [
    "bsmt_df2 = test_data[all_bsmt_features]\n",
    "bsmt_df2[\"BsmtQual\"].fillna('TA', inplace = True)\n",
    "bsmt_df2[\"BsmtCond\"].fillna('TA', inplace = True)\n",
    "bsmt_df2[\"BsmtFinType1\"].fillna('Unf', inplace = True)\n",
    "bsmt_df2[\"BsmtFinType2\"].fillna('Unf', inplace = True)\n",
    "bsmt_df2.loc[bsmt_df2[\"BsmtExposure\"].isna(), 'BsmtExposure'] = 'No'\n",
    "test_data[all_bsmt_features] = bsmt_df2.copy()"
   ]
  },
  {
   "cell_type": "code",
   "execution_count": null,
   "metadata": {},
   "outputs": [],
   "source": [
    "garage_features = [feat for feat in train_data if 'Garage' in feat]\n",
    "missing_garage_features = set(garage_features) - set([\"GarageArea\",\"GarageCars\",'GarageYrBlt'])\n",
    "na_fill_dict = {col:'NoGarage' for col in missing_garage_features}\n",
    "train_data.fillna(na_fill_dict, inplace = True)\n",
    "test_data.fillna(na_fill_dict, inplace = True)\n",
    "train_data['GarageYrBlt'].fillna(train_data['YearBuilt'], inplace = True)\n",
    "test_data['GarageYrBlt'].fillna(test_data['YearBuilt'], inplace = True)"
   ]
  },
  {
   "cell_type": "code",
   "execution_count": null,
   "metadata": {},
   "outputs": [],
   "source": [
    "mas_vnr_fillna = {'MasVnrArea': 0.0, 'MasVnrType': 'None'}\n",
    "train_data.fillna(mas_vnr_fillna, inplace = True)\n",
    "train_data['MiscFeature'].fillna(\"N/A\", inplace = True)\n",
    "train_data['FireplaceQu'].fillna('N/A', inplace = True)\n",
    "train_data['Alley'].fillna('N/A', inplace = True)\n",
    "\n",
    "test_data.fillna(mas_vnr_fillna, inplace = True)\n",
    "test_data['MiscFeature'].fillna(\"N/A\", inplace = True)\n",
    "test_data['FireplaceQu'].fillna('N/A', inplace = True)\n",
    "test_data['Alley'].fillna('N/A', inplace = True)"
   ]
  },
  {
   "cell_type": "code",
   "execution_count": null,
   "metadata": {},
   "outputs": [],
   "source": [
    "train_data['LotDepth'] = train_data['LotArea']/train_data['LotFrontage']\n",
    "test_data['LotDepth'] = test_data['LotArea']/test_data['LotFrontage']"
   ]
  },
  {
   "cell_type": "code",
   "execution_count": null,
   "metadata": {},
   "outputs": [],
   "source": [
    "feats = [\"GrLivArea\",\"LotArea\", \"1stFlrSF\"]\n",
    "fig, ax = plt.subplots(3,2)\n",
    "fig.set_figheight(10)\n",
    "fig.set_figwidth(15)\n",
    "\n",
    "ax[0,0].title.set_text(\"Non Missing Frontage Values\")\n",
    "ax[0,1].title.set_text(\"Missing Frontage Values\")\n",
    "\n",
    "i = 0\n",
    "for feat in feats:\n",
    "    ax[i,0].hist(train_data[train_data[\"LotFrontage\"]!=np.nan][feat],bins = 20)\n",
    "    ax[i,0].set_xlabel(feat)\n",
    "    \n",
    "    ax[i,1].hist(train_data[train_data[\"LotFrontage\"].isna()][feat],bins = 20)\n",
    "    ax[i,1].set_xlabel(feat)\n",
    "    i = i+1\n",
    "plt.tight_layout()"
   ]
  },
  {
   "cell_type": "markdown",
   "metadata": {},
   "source": [
    "Here is a visualization of the LotFrontage feature and the filling of missing values with randomly selected values from the interquartile range, or the middle 50% of LotFrontage values."
   ]
  },
  {
   "cell_type": "code",
   "execution_count": null,
   "metadata": {},
   "outputs": [],
   "source": [
    "first_quartile_front = np.nanquantile(train_data[\"LotFrontage\"], 0.25)\n",
    "third_quartile_front = np.nanquantile(train_data[\"LotFrontage\"], 0.75)\n",
    "missing_vals_front = len(train_data[train_data[\"LotFrontage\"].isna()][\"LotFrontage\"])\n",
    "middle_50_front = np.linspace(first_quartile_front, third_quartile_front, missing_vals_front)"
   ]
  },
  {
   "cell_type": "code",
   "execution_count": null,
   "metadata": {},
   "outputs": [],
   "source": [
    "first_quartile_depth = np.nanquantile(train_data[\"LotDepth\"], 0.25)\n",
    "third_quartile_depth = np.nanquantile(train_data[\"LotDepth\"], 0.75)\n",
    "missing_vals_depth = len(train_data[train_data[\"LotDepth\"].isna()][\"LotDepth\"])\n",
    "middle_50_depth = np.linspace(first_quartile_depth, third_quartile_depth, missing_vals_depth)"
   ]
  },
  {
   "cell_type": "code",
   "execution_count": null,
   "metadata": {},
   "outputs": [],
   "source": [
    "train_data[\"LotFrontage\"].fillna(np.random.choice(middle_50_front), inplace = True)\n",
    "train_data[\"LotDepth\"].fillna(np.random.choice(middle_50_depth), inplace = True)\n",
    "\n",
    "test_data[\"LotFrontage\"].fillna(np.random.choice(middle_50_front), inplace = True)\n",
    "test_data[\"LotDepth\"].fillna(np.random.choice(middle_50_depth), inplace = True)"
   ]
  },
  {
   "cell_type": "code",
   "execution_count": null,
   "metadata": {},
   "outputs": [],
   "source": [
    "train_data[\"Fence\"].fillna('N/A', inplace = True)\n",
    "train_data[\"Electrical\"].fillna(\"SBrkr\", inplace = True)\n",
    "\n",
    "test_data[\"Fence\"].fillna('N/A', inplace = True)\n",
    "test_data[\"Electrical\"].fillna(\"SBrkr\", inplace = True)"
   ]
  },
  {
   "cell_type": "code",
   "execution_count": null,
   "metadata": {},
   "outputs": [],
   "source": [
    "train_data.drop(columns=[\"Id\"], inplace = True)"
   ]
  },
  {
   "cell_type": "markdown",
   "metadata": {},
   "source": [
    "# EDA and Feature Engineering"
   ]
  },
  {
   "cell_type": "markdown",
   "metadata": {},
   "source": [
    "Now onto the fun stuff- Feature Engineering. This is where we will squeeze as much value out of our features as humanly possible!"
   ]
  },
  {
   "cell_type": "code",
   "execution_count": null,
   "metadata": {},
   "outputs": [],
   "source": [
    "train_data[\"MoSold\"].hist()"
   ]
  },
  {
   "cell_type": "code",
   "execution_count": null,
   "metadata": {},
   "outputs": [],
   "source": [
    "median_price_month = train_data.groupby(\"MoSold\").describe()[\"SalePrice\"][\"50%\"]"
   ]
  },
  {
   "cell_type": "code",
   "execution_count": null,
   "metadata": {},
   "outputs": [],
   "source": [
    "plt.bar(median_price_month.index, median_price_month)\n",
    "plt.ylim(100000)"
   ]
  },
  {
   "cell_type": "markdown",
   "metadata": {},
   "source": [
    "We will start by mapping the months of the year into distinct Season categories."
   ]
  },
  {
   "cell_type": "code",
   "execution_count": null,
   "metadata": {},
   "outputs": [],
   "source": [
    "seasons_map = {1:'Winter', 2:'Winter', 3:'Spring',4:'Spring',5:'Spring',6:'Summer',7:'Summer',8:'Summer',9:'Fall',10:\n",
    "              'Fall', 11:'Fall',12:'Winter'}\n",
    "train_data[\"Season\"] = train_data[\"MoSold\"].map(seasons_map)\n",
    "test_data[\"Season\"] = test_data[\"MoSold\"].map(seasons_map)"
   ]
  },
  {
   "cell_type": "code",
   "execution_count": null,
   "metadata": {},
   "outputs": [],
   "source": [
    "train_data[\"SalePrice\"].hist()\n",
    "\n",
    "train_data[\"GroupedPrice\"] = pd.qcut(train_data[\"SalePrice\"].copy(), q = 10)"
   ]
  },
  {
   "cell_type": "code",
   "execution_count": null,
   "metadata": {},
   "outputs": [],
   "source": [
    "train_data[\"Season\"].hist()\n",
    "plt.title(\"Houses Sold by Season\")"
   ]
  },
  {
   "cell_type": "code",
   "execution_count": null,
   "metadata": {},
   "outputs": [],
   "source": [
    "fig, axs = plt.subplots(figsize=(22, 9))\n",
    "sns.countplot(x=\"GroupedPrice\", hue = \"Season\", data = train_data)\n",
    "\n",
    "plt.xlabel('Price Range', size=15, labelpad=20)\n",
    "plt.ylabel('Houses Sold', size=15, labelpad=20)\n",
    "plt.tick_params(axis='x', labelsize=10)\n",
    "plt.tick_params(axis='y', labelsize=15)\n",
    "\n",
    "plt.legend(loc='upper right', prop={'size': 15})\n",
    "plt.title('House Sold by {}'.format('Season'), size=15, y=1.05)\n",
    "\n",
    "plt.show()"
   ]
  },
  {
   "cell_type": "code",
   "execution_count": null,
   "metadata": {},
   "outputs": [],
   "source": [
    "sns.barplot(train_data[\"Season\"], train_data[\"SalePrice\"])"
   ]
  },
  {
   "cell_type": "markdown",
   "metadata": {},
   "source": [
    "As many of us remember, the 2006-10 timeframe was heavily impacted by the mortgage crisis and the Great Recession. Thus, we will add a binary variable that will tell us if a house was sold during the recession (December 2007 to June 2009) or not. "
   ]
  },
  {
   "cell_type": "code",
   "execution_count": null,
   "metadata": {},
   "outputs": [],
   "source": [
    "recession_years = pd.Series((train_data[\"YrSold\"] >= 2007) & (train_data[\"YrSold\"] <= 2009)).astype(int)\n",
    "recession_years_test = pd.Series((test_data[\"YrSold\"] >= 2007) & (test_data[\"YrSold\"] <= 2009)).astype(int)\n",
    "recession_months = pd.Series(((train_data[\"MoSold\"] == 12) & (train_data[\"YrSold\"] == 2007)) | ((train_data[\"MoSold\"] <= 6) & (train_data[\"YrSold\"] == 2009)) | (train_data[\"YrSold\"] == 2008))\n",
    "recession_months = recession_months.astype(int)\n",
    "recession_months_test = pd.Series(((test_data[\"MoSold\"] == 12) & (test_data[\"YrSold\"] == 2007)) | ((test_data[\"MoSold\"] <= 6) & (test_data[\"YrSold\"] == 2009)) | (test_data[\"YrSold\"] == 2008))\n",
    "recession_months_test = recession_months_test.astype(int)\n",
    "is_recession = recession_years + recession_months\n",
    "is_recession_test = list(recession_years_test + recession_months_test)"
   ]
  },
  {
   "cell_type": "code",
   "execution_count": null,
   "metadata": {},
   "outputs": [],
   "source": [
    "is_recession = list(is_recession)\n",
    "len_is_recession = len(is_recession)\n",
    "for i in range(len_is_recession):\n",
    "    if is_recession[i] != 0:\n",
    "        is_recession[i] -= 1\n",
    "is_recession_test = [is_recession_test[i]-1 for i in range(len(is_recession_test)) if is_recession_test[i] != 0]"
   ]
  },
  {
   "cell_type": "code",
   "execution_count": null,
   "metadata": {},
   "outputs": [],
   "source": [
    "train_data[\"Is_Recession\"] = pd.Series(is_recession)\n",
    "test_data[\"Is_Recession\"] = pd.Series(is_recession_test)"
   ]
  },
  {
   "cell_type": "code",
   "execution_count": null,
   "metadata": {},
   "outputs": [],
   "source": [
    "train_data[\"SaleCondition\"].replace([\"Family\",\"Alloca\", \"AdjLand\"], [\"Other\"]*3, inplace = True)\n",
    "train_data[\"SaleCondition\"].value_counts()"
   ]
  },
  {
   "cell_type": "code",
   "execution_count": null,
   "metadata": {},
   "outputs": [],
   "source": [
    "train_data[\"SaleType\"].value_counts()"
   ]
  },
  {
   "cell_type": "markdown",
   "metadata": {},
   "source": [
    "Here we are binning sparse classes (<50 instances of a given category) into an \"Other\" class. This will lead to less noise coming from categories with very few instances."
   ]
  },
  {
   "cell_type": "code",
   "execution_count": null,
   "metadata": {},
   "outputs": [],
   "source": [
    "saletype_sparse_class = set(train_data[\"SaleType\"].value_counts().index) - set(['New', 'Oth', 'WD'])"
   ]
  },
  {
   "cell_type": "code",
   "execution_count": null,
   "metadata": {},
   "outputs": [],
   "source": [
    "train_data[\"SaleType\"].replace(list(saletype_sparse_class), [\"Oth\"]*len(saletype_sparse_class), inplace = True)\n",
    "train_data[\"SaleType\"].value_counts()"
   ]
  },
  {
   "cell_type": "code",
   "execution_count": null,
   "metadata": {},
   "outputs": [],
   "source": [
    "train_data[\"MiscFeature\"].value_counts()"
   ]
  },
  {
   "cell_type": "code",
   "execution_count": null,
   "metadata": {},
   "outputs": [],
   "source": [
    "has_misc_array = np.zeros(1460)\n",
    "misc_na_index = train_data[train_data[\"MiscFeature\"] == \"N/A\"].index\n",
    "misc_othr_index = train_data[train_data[\"MiscFeature\"] != \"N/A\"].index\n",
    "has_misc_array[misc_na_index] = 0\n",
    "has_misc_array[misc_othr_index] = 1\n",
    "train_data[\"HasMisc\"] = has_misc_array"
   ]
  },
  {
   "cell_type": "code",
   "execution_count": null,
   "metadata": {},
   "outputs": [],
   "source": [
    "fig, ax = plt.subplots(1,2)\n",
    "\n",
    "ax[0].hist(train_data[train_data[\"Fence\"] != \"N/A\"][\"SalePrice\"])\n",
    "ax[1].hist(train_data[train_data[\"Fence\"] == \"N/A\"][\"SalePrice\"])\n",
    "\n",
    "plt.tight_layout()"
   ]
  },
  {
   "cell_type": "code",
   "execution_count": null,
   "metadata": {},
   "outputs": [],
   "source": [
    "train_data[train_data[\"MiscVal\"] == 0][\"SalePrice\"].describe()"
   ]
  },
  {
   "cell_type": "code",
   "execution_count": null,
   "metadata": {},
   "outputs": [],
   "source": [
    "train_data[train_data[\"MiscVal\"] != 0][\"SalePrice\"].describe()"
   ]
  },
  {
   "cell_type": "code",
   "execution_count": null,
   "metadata": {},
   "outputs": [],
   "source": [
    "train_data[train_data[\"Fence\"] != \"N/A\"][\"SalePrice\"].describe()"
   ]
  },
  {
   "cell_type": "code",
   "execution_count": null,
   "metadata": {},
   "outputs": [],
   "source": [
    "train_data[train_data[\"Fence\"] == \"N/A\"][\"SalePrice\"].describe()"
   ]
  },
  {
   "cell_type": "code",
   "execution_count": null,
   "metadata": {},
   "outputs": [],
   "source": [
    "has_misc_array = np.zeros(1460)\n",
    "misc_na_index = train_data[train_data[\"MiscFeature\"] == \"N/A\"].index\n",
    "misc_othr_index = train_data[train_data[\"MiscFeature\"] != \"N/A\"].index\n",
    "has_misc_array[misc_na_index] = 0\n",
    "has_misc_array[misc_othr_index] = 1\n",
    "train_data[\"HasMisc\"] = has_misc_array"
   ]
  },
  {
   "cell_type": "markdown",
   "metadata": {},
   "source": [
    "This \"has_feature\" function will be used extensively to generate new binary classes that show if a given feature is present in a house.\n",
    "\n",
    "For example, if a house has Miscellaneous upgrades, the new Has_Misc feature will show a value of 1 for that house."
   ]
  },
  {
   "cell_type": "code",
   "execution_count": null,
   "metadata": {},
   "outputs": [],
   "source": [
    "def has_feature(old_feature, feature_split = \"N/A\", df = train_data):\n",
    "    \"\"\"Returns an array of binary classes that show if a given feature is \n",
    "    present in a house. This array can be used as a new column in your data.\n",
    "\n",
    "        Parameters\n",
    "        ----------\n",
    "        old_feature : str\n",
    "            The name of the column you want to generate a binary array for.\n",
    "        feature_split : str/numerical\n",
    "            The value present in the `old_feature` column that will result in a 0 value\n",
    "            in the output binary array\n",
    "            For example, if you wanted a column indicating if a house has a porch, \n",
    "            you would set the feature_split argument to 0 because 0 porch square footage means\n",
    "            there is no porch\n",
    "        df : pandas.DataFrame\n",
    "            the input dataframe\n",
    "        \n",
    "        Returns\n",
    "        ----------\n",
    "        new_feature_arr : numpy.array\n",
    "    \"\"\"\n",
    "    new_feature_arr = np.zeros(df.shape[0])\n",
    "    na_index = df[df[old_feature] == feature_split].index\n",
    "    othr_index = df[df[old_feature] != feature_split].index\n",
    "    new_feature_arr[na_index] = 0\n",
    "    new_feature_arr[othr_index] = 1\n",
    "    return new_feature_arr"
   ]
  },
  {
   "cell_type": "code",
   "execution_count": null,
   "metadata": {},
   "outputs": [],
   "source": [
    "test_data[\"HasMisc\"] = has_feature(\"MiscFeature\", feature_split = \"N/A\", df = test_data)"
   ]
  },
  {
   "cell_type": "code",
   "execution_count": null,
   "metadata": {},
   "outputs": [],
   "source": [
    "train_data[\"HasFenceQ\"] = has_feature(\"Fence\")\n",
    "test_data[\"HasFenceQ\"] = has_feature(\"Fence\", df = test_data)"
   ]
  },
  {
   "cell_type": "code",
   "execution_count": null,
   "metadata": {},
   "outputs": [],
   "source": [
    "train_data[\"PoolQC\"].unique()"
   ]
  },
  {
   "cell_type": "code",
   "execution_count": null,
   "metadata": {},
   "outputs": [],
   "source": [
    "train_data[train_data[\"PoolQC\"]!=\"NA\"][\"SalePrice\"].describe()"
   ]
  },
  {
   "cell_type": "code",
   "execution_count": null,
   "metadata": {},
   "outputs": [],
   "source": [
    "train_data[train_data[\"PoolQC\"]==\"NA\"][\"SalePrice\"].describe()"
   ]
  },
  {
   "cell_type": "code",
   "execution_count": null,
   "metadata": {},
   "outputs": [],
   "source": [
    "train_data[\"HasPool\"] = has_feature(\"PoolQC\", feature_split=\"NA\")\n",
    "test_data[\"HasPool\"] = has_feature(\"PoolQC\", feature_split=\"NA\", df = test_data)"
   ]
  },
  {
   "cell_type": "code",
   "execution_count": null,
   "metadata": {},
   "outputs": [],
   "source": [
    "plt.bar(train_data[\"OverallQual\"], train_data[\"SalePrice\"])"
   ]
  },
  {
   "cell_type": "code",
   "execution_count": null,
   "metadata": {},
   "outputs": [],
   "source": [
    "plt.show(train_data[train_data[\"ScreenPorch\"] > 0][\"SalePrice\"].hist())\n",
    "print(train_data[train_data[\"ScreenPorch\"] > 0][\"SalePrice\"].describe())"
   ]
  },
  {
   "cell_type": "code",
   "execution_count": null,
   "metadata": {},
   "outputs": [],
   "source": [
    "plt.show(train_data[train_data[\"ScreenPorch\"] == 0][\"SalePrice\"].hist())\n",
    "print(train_data[train_data[\"ScreenPorch\"] == 0][\"SalePrice\"].describe())"
   ]
  },
  {
   "cell_type": "code",
   "execution_count": null,
   "metadata": {},
   "outputs": [],
   "source": [
    "train_data[(train_data[\"EnclosedPorch\"] > 0) & (train_data[\"3SsnPorch\"] > 0)][\"SalePrice\"] "
   ]
  },
  {
   "cell_type": "code",
   "execution_count": null,
   "metadata": {},
   "outputs": [],
   "source": [
    "train_data[(train_data[\"OpenPorchSF\"] > 0) & (train_data[\"3SsnPorch\"] > 0)][\"SalePrice\"] "
   ]
  },
  {
   "cell_type": "code",
   "execution_count": null,
   "metadata": {},
   "outputs": [],
   "source": [
    "train_data[(train_data[\"ScreenPorch\"] > 0) & (train_data[\"3SsnPorch\"] > 0)][\"SalePrice\"] "
   ]
  },
  {
   "cell_type": "code",
   "execution_count": null,
   "metadata": {},
   "outputs": [],
   "source": [
    "train_data[(train_data[\"ScreenPorch\"] > 0) & (train_data[\"EnclosedPorch\"] > 0)][\"SalePrice\"] "
   ]
  },
  {
   "cell_type": "code",
   "execution_count": null,
   "metadata": {},
   "outputs": [],
   "source": [
    "train_data[(train_data[\"ScreenPorch\"] > 0) & (train_data[\"OpenPorchSF\"] > 0)][\"SalePrice\"] "
   ]
  },
  {
   "cell_type": "code",
   "execution_count": null,
   "metadata": {},
   "outputs": [],
   "source": [
    "train_data[(train_data[\"EnclosedPorch\"] > 0) & (train_data[\"OpenPorchSF\"] > 0)][\"SalePrice\"]"
   ]
  },
  {
   "cell_type": "code",
   "execution_count": null,
   "metadata": {},
   "outputs": [],
   "source": [
    "porch_list = [\"EnclosedPorch\", \"OpenPorchSF\", \"ScreenPorch\", \"3SsnPorch\"]\n",
    "for porch in porch_list:\n",
    "    train_data[f\"Has{porch}\"] = has_feature(porch, feature_split=0)\n",
    "    test_data[f\"Has{porch}\"] = has_feature(porch, feature_split=0, df=test_data)"
   ]
  },
  {
   "cell_type": "code",
   "execution_count": null,
   "metadata": {},
   "outputs": [],
   "source": [
    "has_porch_feats = [\"HasEnclosedPorch\", \"HasOpenPorchSF\", \"HasScreenPorch\", \"Has3SsnPorch\"]\n",
    "train_data[\"PorchSum\"] = pd.Series([0]*1460)\n",
    "test_data[\"PorchSum\"] = pd.Series([0]*1459)\n",
    "for val in has_porch_feats:\n",
    "    train_data[\"PorchSum\"] += train_data[val]\n",
    "    test_data[\"PorchSum\"] += test_data[val]"
   ]
  },
  {
   "cell_type": "code",
   "execution_count": null,
   "metadata": {},
   "outputs": [],
   "source": [
    "train_data[train_data[\"PorchSum\"] == 2.0][\"SalePrice\"].describe()"
   ]
  },
  {
   "cell_type": "code",
   "execution_count": null,
   "metadata": {},
   "outputs": [],
   "source": [
    "train_data[train_data[\"PorchSum\"] != 2.0][\"SalePrice\"].describe()"
   ]
  },
  {
   "cell_type": "code",
   "execution_count": null,
   "metadata": {},
   "outputs": [],
   "source": [
    "train_data.info()"
   ]
  },
  {
   "cell_type": "code",
   "execution_count": null,
   "metadata": {},
   "outputs": [],
   "source": [
    "train_data.corr()[\"SalePrice\"].sort_values(ascending=False)"
   ]
  },
  {
   "cell_type": "code",
   "execution_count": null,
   "metadata": {},
   "outputs": [],
   "source": [
    "train_data[\"GroupedGrArea\"] = pd.qcut(train_data[\"GrLivArea\"], q = 6)"
   ]
  },
  {
   "cell_type": "code",
   "execution_count": null,
   "metadata": {},
   "outputs": [],
   "source": [
    "gr_area_median = train_data.groupby(\"GroupedGrArea\").describe()[\"SalePrice\"]"
   ]
  },
  {
   "cell_type": "code",
   "execution_count": null,
   "metadata": {},
   "outputs": [],
   "source": [
    "fig, axs = plt.subplots(figsize=(22, 9))\n",
    "sns.barplot(x= gr_area_median.index, y = gr_area_median[\"50%\"])\n",
    "\n",
    "plt.xlabel('Gr Area Range', size=15, labelpad=20)\n",
    "plt.ylabel('Sale Price', size=15, labelpad=20)\n",
    "plt.tick_params(axis='x', labelsize=10)\n",
    "plt.tick_params(axis='y', labelsize=15)\n",
    "\n",
    "plt.legend(loc='upper right', prop={'size': 15})\n",
    "plt.title('Sale Price by {}'.format('Area'), size=15, y=1.05)\n",
    "\n",
    "plt.show()"
   ]
  },
  {
   "cell_type": "code",
   "execution_count": null,
   "metadata": {},
   "outputs": [],
   "source": [
    "train_data.info()"
   ]
  },
  {
   "cell_type": "code",
   "execution_count": null,
   "metadata": {},
   "outputs": [],
   "source": [
    "train_data[\"HasWoodDeck\"] = has_feature(\"WoodDeckSF\", feature_split=0)\n",
    "test_data[\"HasWoodDeck\"] = has_feature(\"WoodDeckSF\", feature_split = 0, df = test_data)"
   ]
  },
  {
   "cell_type": "markdown",
   "metadata": {},
   "source": [
    "Here is a neat little helper function to quickly visualize the differences between the classes of a given feature.\n",
    "\n",
    "For example, if you wanted to know how the differences in SaleCondition impacted SalePrice, you could use this feature_comparison function to quickly get a glimpse of that information!"
   ]
  },
  {
   "cell_type": "code",
   "execution_count": null,
   "metadata": {},
   "outputs": [],
   "source": [
    "def feature_comparison(feature,df=train_data,feature_split=\"N/A\", output = \"SalePrice\"):\n",
    "    print(f\"{feature} == {feature_split}\\n\\n\", df[df[feature] == feature_split][output].describe())\n",
    "    print(f\"\\n\\n{feature} != {feature_split}\\n\\n\",df[df[feature] != feature_split][output].describe())\n",
    "    fig, ax = plt.subplots(1,2, sharex = True)\n",
    "    fig.set_figheight(5)\n",
    "    fig.set_figwidth(10)\n",
    "    for i in (0,1):\n",
    "        ax[i].tick_params(axis='x', labelsize=14)\n",
    "    ax[0].hist(df[df[feature] == feature_split][output])\n",
    "    ax[0].set_title(f\"Price Distribution when {feature} == {feature_split}\")\n",
    "    ax[1].hist(df[df[feature] != feature_split][output])\n",
    "    ax[1].set_title(f\"Price Distribution when {feature} != {feature_split}\")\n",
    "    plt.tight_layout()\n",
    "    "
   ]
  },
  {
   "cell_type": "code",
   "execution_count": null,
   "metadata": {},
   "outputs": [],
   "source": [
    "feature_comparison(\"WoodDeckSF\", feature_split= 0)"
   ]
  },
  {
   "cell_type": "code",
   "execution_count": null,
   "metadata": {},
   "outputs": [],
   "source": [
    "train_data.info()"
   ]
  },
  {
   "cell_type": "code",
   "execution_count": null,
   "metadata": {},
   "outputs": [],
   "source": [
    "train_data[\"SaleCondition\"].value_counts()\n",
    "feature_comparison(\"SaleCondition\", feature_split= \"Normal\")"
   ]
  },
  {
   "cell_type": "code",
   "execution_count": null,
   "metadata": {},
   "outputs": [],
   "source": [
    "train_data[\"NormalCond\"] = has_feature(\"SaleCondition\", feature_split = \"Normal\")\n",
    "test_data[\"NormalCond\"] = has_feature(\"SaleCondition\", feature_split = \"Normal\", df = test_data)"
   ]
  },
  {
   "cell_type": "code",
   "execution_count": null,
   "metadata": {},
   "outputs": [],
   "source": [
    "train_data.corr()[\"SalePrice\"].sort_values(ascending=False)"
   ]
  },
  {
   "cell_type": "code",
   "execution_count": null,
   "metadata": {},
   "outputs": [],
   "source": [
    "train_data.info()"
   ]
  },
  {
   "cell_type": "code",
   "execution_count": null,
   "metadata": {},
   "outputs": [],
   "source": [
    "feature_comparison(\"PavedDrive\", feature_split = \"N\")"
   ]
  },
  {
   "cell_type": "code",
   "execution_count": null,
   "metadata": {},
   "outputs": [],
   "source": [
    "train_data[\"PavedDrive\"].replace(\"P\", \"Y\", inplace = True)"
   ]
  },
  {
   "cell_type": "code",
   "execution_count": null,
   "metadata": {},
   "outputs": [],
   "source": [
    "#just encode this feature\n",
    "feature_comparison(\"PavedDrive\", feature_split = \"Y\")"
   ]
  },
  {
   "cell_type": "code",
   "execution_count": null,
   "metadata": {},
   "outputs": [],
   "source": [
    "train_data[\"Functional\"].value_counts()"
   ]
  },
  {
   "cell_type": "code",
   "execution_count": null,
   "metadata": {},
   "outputs": [],
   "source": [
    "feature_comparison(\"Functional\",feature_split=\"Mod\")"
   ]
  },
  {
   "cell_type": "code",
   "execution_count": null,
   "metadata": {},
   "outputs": [],
   "source": [
    "train_data[\"Not_Typ\"] = has_feature(\"Functional\", feature_split = \"Typ\")\n",
    "test_data[\"Not_Typ\"] = has_feature(\"Functional\", feature_split = \"Typ\", df = test_data)"
   ]
  },
  {
   "cell_type": "code",
   "execution_count": null,
   "metadata": {},
   "outputs": [],
   "source": [
    "train_data[\"Not_Typ\"].value_counts()"
   ]
  },
  {
   "cell_type": "code",
   "execution_count": null,
   "metadata": {},
   "outputs": [],
   "source": [
    "train_data[\"TotalBaths\"] = train_data[\"FullBath\"] + (0.5*train_data[\"HalfBath\"]) + train_data[\"BsmtFullBath\"] + (0.5*train_data[\"BsmtHalfBath\"])"
   ]
  },
  {
   "cell_type": "code",
   "execution_count": null,
   "metadata": {},
   "outputs": [],
   "source": [
    "test_data[\"TotalBaths\"] = test_data[\"FullBath\"] + (0.5*test_data[\"HalfBath\"]) + test_data[\"BsmtFullBath\"] + (0.5*test_data[\"BsmtHalfBath\"])"
   ]
  },
  {
   "cell_type": "code",
   "execution_count": null,
   "metadata": {},
   "outputs": [],
   "source": [
    "train_data[\"TotalBaths\"].value_counts()"
   ]
  },
  {
   "cell_type": "code",
   "execution_count": null,
   "metadata": {},
   "outputs": [],
   "source": [
    "train_data[\"CombinedArea\"] = train_data[\"GrLivArea\"] + train_data[\"TotalBsmtSF\"]"
   ]
  },
  {
   "cell_type": "code",
   "execution_count": null,
   "metadata": {},
   "outputs": [],
   "source": [
    "test_data[\"CombinedArea\"] = test_data[\"GrLivArea\"] + test_data[\"TotalBsmtSF\"]"
   ]
  },
  {
   "cell_type": "code",
   "execution_count": null,
   "metadata": {},
   "outputs": [],
   "source": [
    "train_data[\"CombinedArea\"].corr(train_data[\"SalePrice\"])"
   ]
  },
  {
   "cell_type": "code",
   "execution_count": null,
   "metadata": {},
   "outputs": [],
   "source": [
    "train_data[\"AgeAtSale\"] = train_data[\"YrSold\"] - train_data[\"YearBuilt\"]\n",
    "test_data[\"AgeAtSale\"] = test_data[\"YrSold\"] - test_data[\"YearBuilt\"]"
   ]
  },
  {
   "cell_type": "code",
   "execution_count": null,
   "metadata": {},
   "outputs": [],
   "source": [
    "train_data[\"AgeAtSale\"].corr(train_data[\"SalePrice\"])"
   ]
  },
  {
   "cell_type": "code",
   "execution_count": null,
   "metadata": {},
   "outputs": [],
   "source": [
    "mult_floor_index = train_data[train_data[\"1stFlrSF\"] != train_data[\"GrLivArea\"]][[\"1stFlrSF\",\"GrLivArea\"]].index\n",
    "mult_floor_index_test = test_data[test_data[\"1stFlrSF\"] != test_data[\"GrLivArea\"]][[\"1stFlrSF\",\"GrLivArea\"]].index\n",
    "train_data[\"HasMultFloors\"] = pd.Series([0]*1460)\n",
    "train_data[\"HasMultFloors\"][mult_floor_index] = 1\n",
    "\n",
    "test_data[\"HasMultFloors\"] = pd.Series([0]*1459)\n",
    "test_data[\"HasMultFloors\"][mult_floor_index_test] = 1"
   ]
  },
  {
   "cell_type": "code",
   "execution_count": null,
   "metadata": {},
   "outputs": [],
   "source": [
    "feature_comparison(\"HasMultFloors\", feature_split=0)"
   ]
  },
  {
   "cell_type": "code",
   "execution_count": null,
   "metadata": {},
   "outputs": [],
   "source": [
    "train_data[\"BedsPlusBaths\"] = train_data[\"BedroomAbvGr\"] + train_data[\"TotalBaths\"]"
   ]
  },
  {
   "cell_type": "code",
   "execution_count": null,
   "metadata": {},
   "outputs": [],
   "source": [
    "test_data[\"BedsPlusBaths\"] = test_data[\"BedroomAbvGr\"] + test_data[\"TotalBaths\"]"
   ]
  },
  {
   "cell_type": "code",
   "execution_count": null,
   "metadata": {},
   "outputs": [],
   "source": [
    "train_data[\"AgeOfRemodel\"] = train_data[\"YearRemodAdd\"]- train_data[\"YrSold\"] \n",
    "test_data[\"AgeOfRemodel\"] = test_data[\"YearRemodAdd\"]- test_data[\"YrSold\"]  \n",
    "train_data[\"AgeOfRemodel\"].corr(train_data[\"SalePrice\"])"
   ]
  },
  {
   "cell_type": "code",
   "execution_count": null,
   "metadata": {},
   "outputs": [],
   "source": [
    "train_data[\"LotShape\"].value_counts()"
   ]
  },
  {
   "cell_type": "code",
   "execution_count": null,
   "metadata": {},
   "outputs": [],
   "source": [
    "feature_comparison(\"LotShape\", feature_split=\"IR3\")"
   ]
  },
  {
   "cell_type": "code",
   "execution_count": null,
   "metadata": {},
   "outputs": [],
   "source": [
    "train_data[\"Is_Irregular\"] = has_feature(\"LotShape\", feature_split=\"Reg\")\n",
    "test_data[\"Is_Irregular\"] = has_feature(\"LotShape\", feature_split=\"Reg\", df=test_data)\n",
    "train_data[\"Is_Irregular\"].corr(train_data[\"SalePrice\"])"
   ]
  },
  {
   "cell_type": "code",
   "execution_count": null,
   "metadata": {},
   "outputs": [],
   "source": [
    "train_data['BldgType'].value_counts()"
   ]
  },
  {
   "cell_type": "code",
   "execution_count": null,
   "metadata": {},
   "outputs": [],
   "source": [
    "feature_comparison(\"BldgType\", feature_split=\"1Fam\")"
   ]
  },
  {
   "cell_type": "code",
   "execution_count": null,
   "metadata": {},
   "outputs": [],
   "source": [
    "ordinal_features = set([col for col in train_data.columns if \"Qu\" in col]) - set([\"LowQualFinSF\"])"
   ]
  },
  {
   "cell_type": "code",
   "execution_count": null,
   "metadata": {},
   "outputs": [],
   "source": [
    "ordinal_features = list(ordinal_features)"
   ]
  },
  {
   "cell_type": "code",
   "execution_count": null,
   "metadata": {},
   "outputs": [],
   "source": [
    "feature_comparison(\"LowQualFinSF\", feature_split=0)"
   ]
  },
  {
   "cell_type": "code",
   "execution_count": null,
   "metadata": {},
   "outputs": [],
   "source": [
    "test_data[\"SaleType\"].value_counts()"
   ]
  },
  {
   "cell_type": "code",
   "execution_count": null,
   "metadata": {},
   "outputs": [],
   "source": [
    "train_data[\"IsOld\"] = has_feature(\"SaleType\", feature_split=\"New\")\n",
    "test_data[\"IsOld\"] = has_feature(\"SaleType\", feature_split = \"New\", df= test_data)"
   ]
  },
  {
   "cell_type": "code",
   "execution_count": null,
   "metadata": {},
   "outputs": [],
   "source": [
    "train_data[\"IsOld\"] = [1 if val == 0 else 0 for val in train_data[\"IsOld\"]]\n",
    "test_data[\"IsOld\"] = [1 if val == 0 else 0 for val in test_data[\"IsOld\"]]"
   ]
  },
  {
   "cell_type": "code",
   "execution_count": null,
   "metadata": {},
   "outputs": [],
   "source": [
    "train_data[\"IsOld\"].corr(train_data[\"SalePrice\"])"
   ]
  },
  {
   "cell_type": "code",
   "execution_count": null,
   "metadata": {},
   "outputs": [],
   "source": [
    "ordinal_features.append(\"SaleType\")"
   ]
  },
  {
   "cell_type": "code",
   "execution_count": null,
   "metadata": {},
   "outputs": [],
   "source": [
    "train_data[\"SaleType\"].value_counts()\n",
    "feature_comparison(\"SaleType\",feature_split=\"New\")"
   ]
  },
  {
   "cell_type": "markdown",
   "metadata": {},
   "source": [
    "Now it's time for the juicy stuff: feature encoding.\n",
    "\n",
    "Most machine learning models don't work too well with non-numerical data, so we need to \"encode\" those non-numerical features with numbers to feed into our models.\n",
    "\n",
    "This ord_feat_encoding function strategically encodes the features based on the SalePrice of each class in that feature. For example, in the Neighborhoods feature, the neighborhoods with the highest median sale prices will correspond to the highest encoding value. \n",
    "\n",
    "This strategy increases the relationship of each of these non-numerical features with the SalePrice and leads to more accurate predictions!"
   ]
  },
  {
   "cell_type": "code",
   "execution_count": null,
   "metadata": {},
   "outputs": [],
   "source": [
    "def ord_feat_encoding(input_feat, target_feat = \"SalePrice\", group_size = 1, visualize_only = False, df = train_data, map_df = False):\n",
    "    feat_val_counts = df[input_feat].value_counts()\n",
    "    feat_below_50 = [feat_val_counts.index[i] for (i, val) in enumerate(feat_val_counts) if val < 50]\n",
    "    df[input_feat].replace(feat_below_50, [\"Othr\"] * len(feat_below_50), inplace = True)\n",
    "    median_feat = df.groupby([input_feat]).describe()[target_feat][\"50%\"]\n",
    "    median_feat = median_feat.sort_values()\n",
    "    if visualize_only:\n",
    "        plt.figure(figsize = (10,10))\n",
    "        sns.barplot(median_feat, median_feat.index)\n",
    "        plt.tick_params(axis='x', labelsize=10)\n",
    "    median_feat_list = list(median_feat.index)\n",
    "    \n",
    "    def list_index(item):\n",
    "        return (median_feat_list.index(item) // group_size) + 1\n",
    "    if not visualize_only:\n",
    "        feat_map = {val:list_index(val) for val in median_feat_list}\n",
    "        if not map_df:\n",
    "            df[f\"{input_feat}Group\"] = df[input_feat].map(feat_map)\n",
    "        else:\n",
    "            return feat_map"
   ]
  },
  {
   "cell_type": "code",
   "execution_count": null,
   "metadata": {},
   "outputs": [],
   "source": [
    "ord_feat_encoding(\"Neighborhood\", group_size = 3)"
   ]
  },
  {
   "cell_type": "code",
   "execution_count": null,
   "metadata": {},
   "outputs": [],
   "source": [
    "train_data.select_dtypes(\"object\").info()"
   ]
  },
  {
   "cell_type": "code",
   "execution_count": null,
   "metadata": {},
   "outputs": [],
   "source": [
    "median_style = train_data.groupby([\"HouseStyle\"]).describe()[\"SalePrice\"][\"50%\"]\n",
    "median_style = median_style.sort_values()"
   ]
  },
  {
   "cell_type": "code",
   "execution_count": null,
   "metadata": {},
   "outputs": [],
   "source": [
    "plt.figure(figsize = (10,10))\n",
    "sns.barplot(median_style, median_style.index)\n",
    "plt.tick_params(axis='x', labelsize=10)"
   ]
  },
  {
   "cell_type": "code",
   "execution_count": null,
   "metadata": {},
   "outputs": [],
   "source": [
    "train_data[\"HouseStyle\"].value_counts()"
   ]
  },
  {
   "cell_type": "code",
   "execution_count": null,
   "metadata": {},
   "outputs": [],
   "source": [
    "ord_feat_encoding(\"HouseStyle\", group_size=2)"
   ]
  },
  {
   "cell_type": "code",
   "execution_count": null,
   "metadata": {},
   "outputs": [],
   "source": [
    "train_data[\"HouseStyleGroup\"].corr(train_data[\"SalePrice\"])"
   ]
  },
  {
   "cell_type": "code",
   "execution_count": null,
   "metadata": {},
   "outputs": [],
   "source": [
    "train_data[\"Foundation\"].replace([\"Slab\",\"Stone\",\"Wood\"], [\"Other\"]*3, inplace=True)"
   ]
  },
  {
   "cell_type": "code",
   "execution_count": null,
   "metadata": {},
   "outputs": [],
   "source": [
    "ord_feat_encoding(\"Foundation\", group_size = 1)"
   ]
  },
  {
   "cell_type": "code",
   "execution_count": null,
   "metadata": {},
   "outputs": [],
   "source": [
    "ordinal_features"
   ]
  },
  {
   "cell_type": "code",
   "execution_count": null,
   "metadata": {},
   "outputs": [],
   "source": [
    "ord_feat_encoding(\"SaleType\", group_size = 1)"
   ]
  },
  {
   "cell_type": "code",
   "execution_count": null,
   "metadata": {},
   "outputs": [],
   "source": [
    "train_data[\"GarageQual\"].replace([\"Fa\", \"Gd\", \"Po\", \"Ex\"], [\"Oth\"] * 4, inplace = True)"
   ]
  },
  {
   "cell_type": "code",
   "execution_count": null,
   "metadata": {},
   "outputs": [],
   "source": [
    "def corr_with(input_feat, target_feat = \"SalePrice\", df = train_data):\n",
    "    return df[input_feat].corr(train_data[target_feat])"
   ]
  },
  {
   "cell_type": "code",
   "execution_count": null,
   "metadata": {},
   "outputs": [],
   "source": [
    "ord_feat_encoding(\"KitchenQual\", group_size = 1)"
   ]
  },
  {
   "cell_type": "code",
   "execution_count": null,
   "metadata": {},
   "outputs": [],
   "source": [
    "corr_with(\"KitchenQualGroup\")"
   ]
  },
  {
   "cell_type": "code",
   "execution_count": null,
   "metadata": {},
   "outputs": [],
   "source": [
    "train_data.corr()[\"SalePrice\"].sort_values(ascending=False)[0:10]"
   ]
  },
  {
   "cell_type": "code",
   "execution_count": null,
   "metadata": {},
   "outputs": [],
   "source": [
    "ordinal_features"
   ]
  },
  {
   "cell_type": "code",
   "execution_count": null,
   "metadata": {},
   "outputs": [],
   "source": [
    "train_data[\"ExterQual\"].replace(\"Fa\", \"TA\", inplace=True)"
   ]
  },
  {
   "cell_type": "code",
   "execution_count": null,
   "metadata": {},
   "outputs": [],
   "source": [
    "ord_feat_encoding(\"ExterQual\", group_size = 1)"
   ]
  },
  {
   "cell_type": "code",
   "execution_count": null,
   "metadata": {},
   "outputs": [],
   "source": [
    "train_data[\"BsmtQual\"].value_counts()"
   ]
  },
  {
   "cell_type": "code",
   "execution_count": null,
   "metadata": {},
   "outputs": [],
   "source": [
    "ord_feat_encoding(\"BsmtQual\", group_size=1)"
   ]
  },
  {
   "cell_type": "code",
   "execution_count": null,
   "metadata": {},
   "outputs": [],
   "source": [
    "train_data[\"Condition1\"].value_counts()"
   ]
  },
  {
   "cell_type": "code",
   "execution_count": null,
   "metadata": {},
   "outputs": [],
   "source": [
    "train_data[\"Condition1\"].replace([\"RRAe\", \"RRAn\", \"RRNn\", \"RRNe\"], [\"RR\"]*4, inplace=True)\n",
    "train_data[\"Condition1\"].replace([\"PosN\", \"PosA\"], [\"Pos\"]*2, inplace = True)"
   ]
  },
  {
   "cell_type": "code",
   "execution_count": null,
   "metadata": {},
   "outputs": [],
   "source": [
    "ord_feat_encoding(\"Condition1\", group_size=2)"
   ]
  },
  {
   "cell_type": "code",
   "execution_count": null,
   "metadata": {},
   "outputs": [],
   "source": [
    "corr_with(\"Condition1Group\")"
   ]
  },
  {
   "cell_type": "code",
   "execution_count": null,
   "metadata": {},
   "outputs": [],
   "source": [
    "train_data[\"Condition2\"].replace(list(set(train_data[\"Condition2\"].value_counts().index)- set([\"Norm\"])),[\"Other\"]*7, inplace=True)"
   ]
  },
  {
   "cell_type": "code",
   "execution_count": null,
   "metadata": {},
   "outputs": [],
   "source": [
    "ext_val_counts = train_data[\"Exterior1st\"].value_counts()\n",
    "ext_below_50 = [ext_val_counts.index[i] for (i, val) in enumerate(ext_val_counts) if val < 50]\n",
    "train_data[\"Exterior1st\"].replace(ext_below_50, [\"Othr\"] * len(ext_below_50), inplace = True)"
   ]
  },
  {
   "cell_type": "code",
   "execution_count": null,
   "metadata": {},
   "outputs": [],
   "source": [
    "ext_val_counts"
   ]
  },
  {
   "cell_type": "code",
   "execution_count": null,
   "metadata": {},
   "outputs": [],
   "source": [
    "ord_feat_encoding(\"Exterior1st\", visualize_only=True)"
   ]
  },
  {
   "cell_type": "code",
   "execution_count": null,
   "metadata": {},
   "outputs": [],
   "source": [
    "roof_matl_replace = [val for val in train_data[\"RoofMatl\"].value_counts().index if val != \"CompShg\"]\n",
    "train_data[\"RoofMatl\"].replace(roof_matl_replace, [\"Othr\"] * 7, inplace = True)"
   ]
  },
  {
   "cell_type": "code",
   "execution_count": null,
   "metadata": {},
   "outputs": [],
   "source": [
    "train_data[\"RoofStyle\"].replace([\"Flat\",\"Gambrel\",\"Mansard\", \"Shed\"], [\"Othr\"] * 4, inplace = True)"
   ]
  },
  {
   "cell_type": "code",
   "execution_count": null,
   "metadata": {},
   "outputs": [],
   "source": [
    "ord_feat_encoding(\"RoofStyle\")"
   ]
  },
  {
   "cell_type": "code",
   "execution_count": null,
   "metadata": {},
   "outputs": [],
   "source": [
    "train_data[\"BldgType\"].replace([\"Twnhs\", \"2fmCon\"], [\"Duplex\"]*2, inplace = True)"
   ]
  },
  {
   "cell_type": "code",
   "execution_count": null,
   "metadata": {},
   "outputs": [],
   "source": [
    "ord_feat_encoding('BldgType')"
   ]
  },
  {
   "cell_type": "code",
   "execution_count": null,
   "metadata": {},
   "outputs": [],
   "source": [
    "train_data[\"LandSlope\"].replace(\"Sev\", \"Mod\", inplace = True)"
   ]
  },
  {
   "cell_type": "code",
   "execution_count": null,
   "metadata": {},
   "outputs": [],
   "source": [
    "train_data[\"LotShape\"].replace(\"IR3\", \"IR2\", inplace=True)"
   ]
  },
  {
   "cell_type": "code",
   "execution_count": null,
   "metadata": {},
   "outputs": [],
   "source": [
    "train_data[\"LotConfig\"].replace([\"FR2\", \"FR3\"], [\"FR\"] * 2, inplace = True)"
   ]
  },
  {
   "cell_type": "code",
   "execution_count": null,
   "metadata": {},
   "outputs": [],
   "source": [
    "ord_feat_encoding(\"LotConfig\")"
   ]
  },
  {
   "cell_type": "code",
   "execution_count": null,
   "metadata": {},
   "outputs": [],
   "source": [
    "train_data[\"LandContour\"].replace(\"Low\",\"Lvl\", inplace = True)"
   ]
  },
  {
   "cell_type": "code",
   "execution_count": null,
   "metadata": {},
   "outputs": [],
   "source": [
    "ord_feat_encoding(\"LandContour\")"
   ]
  },
  {
   "cell_type": "code",
   "execution_count": null,
   "metadata": {},
   "outputs": [],
   "source": [
    "train_data[\"BsmtCond\"].replace(\"Po\", \"Fa\", inplace = True)"
   ]
  },
  {
   "cell_type": "code",
   "execution_count": null,
   "metadata": {},
   "outputs": [],
   "source": [
    "ord_feat_encoding(\"BsmtCond\")"
   ]
  },
  {
   "cell_type": "code",
   "execution_count": null,
   "metadata": {},
   "outputs": [],
   "source": [
    "corr_with(\"BsmtCondGroup\")"
   ]
  },
  {
   "cell_type": "code",
   "execution_count": null,
   "metadata": {},
   "outputs": [],
   "source": [
    "train_data[\"MSZoning\"].replace([\"RH\",\"C (all)\"], [\"Othr\"] *2 , inplace = True)\n",
    "train_data[\"MSZoning\"].replace([\"Othr\"],[\"RM\"], inplace = True)"
   ]
  },
  {
   "cell_type": "code",
   "execution_count": null,
   "metadata": {},
   "outputs": [],
   "source": [
    "ord_feat_encoding(\"MSZoning\", group_size = 1)"
   ]
  },
  {
   "cell_type": "code",
   "execution_count": null,
   "metadata": {},
   "outputs": [],
   "source": [
    "train_data[\"HeatingQC\"].replace(\"Po\", \"Fa\", inplace = True)"
   ]
  },
  {
   "cell_type": "code",
   "execution_count": null,
   "metadata": {},
   "outputs": [],
   "source": [
    "ord_feat_encoding(\"HeatingQC\", group_size=1)"
   ]
  },
  {
   "cell_type": "code",
   "execution_count": null,
   "metadata": {},
   "outputs": [],
   "source": [
    "already_encoded = [val.split('Group')[0] for val in train_data.columns if (\"Group\" in val) and (\"Grouped\" not in val)]"
   ]
  },
  {
   "cell_type": "code",
   "execution_count": null,
   "metadata": {},
   "outputs": [],
   "source": [
    "object_columns = train_data.select_dtypes(\"object\").columns"
   ]
  },
  {
   "cell_type": "code",
   "execution_count": null,
   "metadata": {},
   "outputs": [],
   "source": [
    "for col in object_columns:\n",
    "    if col not in already_encoded:\n",
    "        ord_feat_encoding(col)"
   ]
  },
  {
   "cell_type": "code",
   "execution_count": null,
   "metadata": {},
   "outputs": [],
   "source": [
    "corr_values = train_data.corr()[\"SalePrice\"].sort_values(ascending=False)\n",
    "best_features = corr_values[1:int(np.sqrt(1460))+1].index"
   ]
  },
  {
   "cell_type": "code",
   "execution_count": null,
   "metadata": {},
   "outputs": [],
   "source": [
    "train_cols = list(set(best_features)-set(test_data.columns))"
   ]
  },
  {
   "cell_type": "code",
   "execution_count": null,
   "metadata": {},
   "outputs": [],
   "source": [
    "group_cols = [val.split('Group')[0] for val in train_cols if \"Group\" in val]"
   ]
  },
  {
   "cell_type": "code",
   "execution_count": null,
   "metadata": {},
   "outputs": [],
   "source": [
    "cols_to_group = test_data.select_dtypes('object').columns\n",
    "for col in cols_to_group:\n",
    "    feature_map = ord_feat_encoding(col, map_df=True)\n",
    "    test_data[col+\"Group\"] = test_data[col].map(feature_map)"
   ]
  },
  {
   "cell_type": "markdown",
   "metadata": {},
   "source": [
    "# Modeling"
   ]
  },
  {
   "cell_type": "markdown",
   "metadata": {},
   "source": [
    "The long awaited moment has finally arrived- it's time to model!\n",
    "\n",
    "We will start off by imputing any missing values in our test dataset and scaling the data using Sklearn's StandardScaler. This formula attempts to remove variability in the features by removing the mean and dividing by the standard deviation."
   ]
  },
  {
   "cell_type": "code",
   "execution_count": null,
   "metadata": {},
   "outputs": [],
   "source": [
    "from sklearn.preprocessing import StandardScaler\n",
    "from sklearn.ensemble import RandomForestRegressor"
   ]
  },
  {
   "cell_type": "code",
   "execution_count": null,
   "metadata": {},
   "outputs": [],
   "source": [
    "train_features = list(best_features)\n",
    "train_features.append(\"SalePrice\")"
   ]
  },
  {
   "cell_type": "code",
   "execution_count": null,
   "metadata": {},
   "outputs": [],
   "source": [
    "from sklearn.impute import SimpleImputer"
   ]
  },
  {
   "cell_type": "code",
   "execution_count": null,
   "metadata": {},
   "outputs": [],
   "source": [
    "group_cols = [col for col in test_data.columns if 'Group' in col]\n",
    "imp = SimpleImputer(missing_values=np.nan, strategy='median')\n",
    "test_data[group_cols] = imp.fit_transform(test_data[group_cols])\n"
   ]
  },
  {
   "cell_type": "code",
   "execution_count": null,
   "metadata": {},
   "outputs": [],
   "source": [
    "cat_columns = list(train_data.select_dtypes('object').columns)\n",
    "test_data.drop(columns = cat_columns, inplace = True)\n",
    "train_data.drop(columns = cat_columns, inplace = True)"
   ]
  },
  {
   "cell_type": "code",
   "execution_count": null,
   "metadata": {},
   "outputs": [],
   "source": [
    "test_data[\"BsmtFullBath\"].fillna(0.0, inplace=True)\n",
    "test_data[\"BsmtHalfBath\"].fillna(0.0, inplace = True)\n",
    "test_data[\"BsmtFinSF2\"].fillna(0.0, inplace = True)\n",
    "test_data[\"BsmtUnfSF\"].fillna(0.0, inplace = True)\n",
    "test_data.drop(columns = \"Is_Recession\", inplace = True)\n",
    "train_data.drop(columns = \"Is_Recession\", inplace = True)"
   ]
  },
  {
   "cell_type": "code",
   "execution_count": null,
   "metadata": {},
   "outputs": [],
   "source": [
    "test_id = test_data[\"Id\"]\n",
    "test_data.drop(columns=\"Id\", inplace=True)"
   ]
  },
  {
   "cell_type": "code",
   "execution_count": null,
   "metadata": {},
   "outputs": [],
   "source": [
    "train_data.drop(columns=['GroupedGrArea', 'GroupedPrice'], inplace = True)"
   ]
  },
  {
   "cell_type": "code",
   "execution_count": null,
   "metadata": {},
   "outputs": [],
   "source": [
    "X_train = StandardScaler().fit_transform(train_data.drop(columns = \"SalePrice\"))\n",
    "y_train = train_data[\"SalePrice\"]\n",
    "X_test = StandardScaler().fit_transform(test_data)"
   ]
  },
  {
   "cell_type": "markdown",
   "metadata": {},
   "source": [
    "Now is the time to select the most important features to feed into our model, and the Random Forest Regressor's **feat_importances** attribute is a great way of getting this done."
   ]
  },
  {
   "cell_type": "code",
   "execution_count": null,
   "metadata": {},
   "outputs": [],
   "source": [
    "regr = RandomForestRegressor(n_estimators=1000, max_depth = 4, n_jobs = -1)\n",
    "regr.fit(X_train, y_train)\n",
    "feat_list = list(train_data.columns)\n",
    "feat_list.remove(\"SalePrice\")\n",
    "feat_importances = list(zip(feat_list, regr.feature_importances_))\n",
    "feat_importances.sort(key = lambda val:val[1], reverse = True)\n",
    "sorted_feats = [val[0] for val in feat_importances]"
   ]
  },
  {
   "cell_type": "markdown",
   "metadata": {},
   "source": [
    "We will select the 90 most important features and once again use the StandardScaler to normalize the data."
   ]
  },
  {
   "cell_type": "code",
   "execution_count": null,
   "metadata": {},
   "outputs": [],
   "source": [
    "new_final_train, new_final_test = train_data[sorted_feats[0:90]], test_data[sorted_feats[0:90]]\n",
    "na_list = [\"BedsPlusBaths\", \"TotalBaths\", \"TotalBsmtSF\", \"GarageArea\", \"BsmtFinSF1\", \"GarageCars\", \"CombinedArea\"]\n",
    "\n",
    "for col in na_list:\n",
    "    new_final_test[col].fillna(new_final_test[col].median(), inplace = True)\n",
    "\n",
    "new_X_train = StandardScaler().fit_transform(new_final_train)\n",
    "y_train = train_data[\"SalePrice\"]\n",
    "new_X_test = StandardScaler().fit_transform(new_final_test)"
   ]
  },
  {
   "cell_type": "markdown",
   "metadata": {},
   "source": [
    "Our first model will be the **Extreme Gradient Boosting Regressor (XGB)**, a model that is commonly used in Kaggle competitions just like this one! XGB is an **ensembling** model in that it combines the predictions of multiple \"weak\" learners into a stronger prediction. \n",
    "\n",
    "It combines these predictions sequentially by continually testing the accuracy of the model on the train data (also known as cross-validation) and weighs the more accurate learners more heavily than the less accurate ones."
   ]
  },
  {
   "cell_type": "code",
   "execution_count": null,
   "metadata": {},
   "outputs": [],
   "source": [
    "xg_regr = xgb.XGBRegressor(silent=False,\n",
    "                      booster = 'gbtree',\n",
    "                      scale_pos_weight=1,\n",
    "                      learning_rate=0.023,  \n",
    "                      colsample_bytree = 0.4,\n",
    "                      subsample = 0.7,\n",
    "                      reg_lambda = 0.4,\n",
    "                      n_estimators=900, \n",
    "                      reg_alpha = 52.1,\n",
    "                      max_depth=4,\n",
    "                      base_score = 0.5,\n",
    "                      n_jobs = -1,\n",
    "                      random_state = 42)\n",
    "\n",
    "xg_regr.fit(new_X_train, y_train)\n",
    "xg_preds = xg_regr.predict(new_X_test)"
   ]
  },
  {
   "cell_type": "markdown",
   "metadata": {},
   "source": [
    "Ridge and Lasso Regression involve a technique known as **regularization** that minimize the likelihood of overfitting. Both algorithms consist of the same basic components as linear regression, but also include a regularization term that is designed to penalize inaccurate predictions and filter out the \"noise\" in your dataset."
   ]
  },
  {
   "cell_type": "code",
   "execution_count": null,
   "metadata": {},
   "outputs": [],
   "source": [
    "ridgeReg = Ridge(alpha=0.4, normalize = True, random_state=42)\n",
    "ridgeReg.fit(new_X_train,y_train)\n",
    "ridge_pred = ridgeReg.predict(new_X_test)"
   ]
  },
  {
   "cell_type": "code",
   "execution_count": null,
   "metadata": {},
   "outputs": [],
   "source": [
    "lassoReg = Lasso(alpha=52.1, normalize=True, random_state=42)\n",
    "lassoReg.fit(new_X_train,y_train)\n",
    "lasso_pred = lassoReg.predict(new_X_test)"
   ]
  },
  {
   "cell_type": "code",
   "execution_count": null,
   "metadata": {},
   "outputs": [],
   "source": [
    "avg_preds = (xg_preds + 0.1*(ridge_pred + lasso_pred))/1.2"
   ]
  },
  {
   "cell_type": "markdown",
   "metadata": {},
   "source": [
    "We will also reintroduce our old friend the Random Forest Regressor! Similar to the XGB Regressor, the Random Forest is an ensembling technique that combines the predictions of many weak learners. \n",
    "\n",
    "However, while the XGB Regressor uses sequential **boosting**, the Random Forest model uses **bagging** or the average of the predictions of each of the individual decision trees in the model."
   ]
  },
  {
   "cell_type": "code",
   "execution_count": null,
   "metadata": {},
   "outputs": [],
   "source": [
    "rf = RandomForestRegressor(n_estimators=300,\n",
    "                          max_depth=None,\n",
    "                          min_samples_split=2,\n",
    "                          min_samples_leaf=1,\n",
    "                          max_features=None,\n",
    "                          oob_score=True,\n",
    "                          random_state=42,\n",
    "                          n_jobs = -1)\n",
    "rf.fit(new_X_train, y_train)\n",
    "rf_preds = rf.predict(new_X_test)"
   ]
  },
  {
   "attachments": {
    "image.png": {
     "image/png": "[encoded data removed]"
    }
   },
   "cell_type": "markdown",
   "metadata": {},
   "source": [
    "Now onto the more specialized regression models:\n",
    "\n",
    "**Least-angle regression (LARS)** is a method that calculates the feature most correlated with the target variable at each iteration of the algorithm. This combined with the Lasso regularization method produces a very accurate regression algorithm.\n",
    "\n",
    "**Kernel Ridge regression** uses the \"kernel-trick\" to project the features into a higher dimension to better obtain an accurate linear regression line.\n",
    "\n",
    "![image.png](attachment:image.png)\n",
    "\n",
    "(Image source: https://datascience.stackexchange.com/questions/17536/kernel-trick-explanation)"
   ]
  },
  {
   "cell_type": "code",
   "execution_count": null,
   "metadata": {},
   "outputs": [],
   "source": [
    "lasso_lars = LassoLars(alpha=46.65778907705154).fit(new_X_train, y_train)\n",
    "lars_preds = lasso_lars.predict(new_X_test)"
   ]
  },
  {
   "cell_type": "code",
   "execution_count": null,
   "metadata": {},
   "outputs": [],
   "source": [
    "kernel = KernelRidge(alpha=1.0, kernel='polynomial', degree=2, coef0=1.5)\n",
    "kernel.fit(new_X_train, y_train)\n",
    "kernel_preds = kernel.predict(new_X_test)"
   ]
  },
  {
   "cell_type": "markdown",
   "metadata": {},
   "source": [
    "## Stacking and Blending Models"
   ]
  },
  {
   "cell_type": "markdown",
   "metadata": {},
   "source": [
    "Here we will utilize the tremendous power of stacking and blending models to improve our predictions.\n",
    "\n",
    "**Stacking** is an ensembling technique just like bagging and boosting, and it consists of combining the predictions of several models and running those predictions through yet another model, known as the **meta-regressor**. In our case, we will stack the Ridge Regression, Lasso Regression, XGB, Random Forest, Lasso Lars, and Kernel Ridge models and use the XGB as the meta-regressor. It's as thorough as it sounds!"
   ]
  },
  {
   "cell_type": "code",
   "execution_count": null,
   "metadata": {},
   "outputs": [],
   "source": [
    "stack = StackingCVRegressor(regressors=(ridgeReg,lassoReg, rf, xg_regr, lasso_lars, kernel),\n",
    "                                meta_regressor=xg_regr,\n",
    "                                use_features_in_secondary=True)"
   ]
  },
  {
   "cell_type": "code",
   "execution_count": null,
   "metadata": {},
   "outputs": [],
   "source": [
    "stack.fit(new_X_train, y_train)\n",
    "stacked_preds = stack.predict(new_X_test)"
   ]
  },
  {
   "cell_type": "code",
   "execution_count": null,
   "metadata": {},
   "outputs": [],
   "source": [
    "kf = KFold(n_splits=12, random_state=42, shuffle=True)\n",
    "def cv_rmse(model, X=train_data):\n",
    "    rmse = np.sqrt(-cross_val_score(model, X_train, y_train, scoring=\"neg_mean_squared_error\", cv=kf))\n",
    "    return (rmse)"
   ]
  },
  {
   "cell_type": "markdown",
   "metadata": {},
   "source": [
    "**Blending** is a little simpler; it consists of multiplying our predictions by certain weights and adding them together. Here we will blend together the predictions of our Stacked model and our Kernel Ridge model in a roughly two-thirds to one-thirds ratio:"
   ]
  },
  {
   "cell_type": "code",
   "execution_count": null,
   "metadata": {},
   "outputs": [],
   "source": [
    "kernel_blend = 0.66*stacked_preds + 0.34*kernel_preds"
   ]
  },
  {
   "cell_type": "code",
   "execution_count": null,
   "metadata": {},
   "outputs": [],
   "source": [
    "output = pd.DataFrame({'Id': test_id, 'SalePrice': kernel_blend})\n",
    "output.to_csv('my_submission2.csv', index=False)\n",
    "print(\"Your submission was successfully saved!\")"
   ]
  },
  {
   "cell_type": "markdown",
   "metadata": {},
   "source": [
    "And that's all, folks! Through the power of feature engineering and stacking/blending a few well chosen models together, we were able to build a high-performing model. "
   ]
  }
 ],
 "metadata": {
  "kernelspec": {
   "display_name": "Python 3",
   "language": "python",
   "name": "python3"
  },
  "language_info": {
   "codemirror_mode": {
    "name": "ipython",
    "version": 3
   },
   "file_extension": ".py",
   "mimetype": "text/x-python",
   "name": "python",
   "nbconvert_exporter": "python",
   "pygments_lexer": "ipython3",
   "version": "3.7.3"
  }
 },
 "nbformat": 4,
 "nbformat_minor": 4
}
